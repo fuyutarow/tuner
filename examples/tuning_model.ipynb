{
 "cells": [
  {
   "cell_type": "code",
   "execution_count": 7,
   "metadata": {},
   "outputs": [],
   "source": [
    "import tensorflow as tf\n",
    "import keras\n",
    "from keras import backend as K\n",
    "from keras.datasets import mnist\n",
    "from keras.layers import BatchNormalization, Flatten\n",
    "from keras.layers import Input, Conv2D, Convolution2D\n",
    "from keras.layers import Activation, concatenate, Dropout\n",
    "from keras.layers import AveragePooling2D, GlobalAveragePooling2D, MaxPooling2D\n",
    "\n",
    "from keras.models import Sequential, Model\n",
    "from keras.utils import np_utils, to_categorical\n",
    "from keras.applications.imagenet_utils import _obtain_input_shape\n",
    "\n",
    "from tuner import utils\n",
    "from tuner.tune import compute_loss"
   ]
  },
  {
   "cell_type": "code",
   "execution_count": 2,
   "metadata": {},
   "outputs": [],
   "source": [
    "train_dir = 'dataset/brain/train'\n",
    "validation = 'dataset/brain/validation'\n",
    "df_train = utils.df_fromdir(train_dir)\n",
    "df_test = utils.df_fromdir(train_dir)\n",
    "\n",
    "x_train, y_train = utils.load_fromdf(df_train)\n",
    "x_test, y_test = utils.load_fromdf(df_test)\n",
    "y_train = to_categorical(y_train)\n",
    "y_test = to_categorical(y_test)"
   ]
  },
  {
   "cell_type": "code",
   "execution_count": 3,
   "metadata": {},
   "outputs": [],
   "source": [
    "from hyperas import optim\n",
    "from hyperopt import Trials, STATUS_OK, tpe\n",
    "from hyperas.distributions import choice, uniform, conditional"
   ]
  },
  {
   "cell_type": "code",
   "execution_count": 6,
   "metadata": {},
   "outputs": [],
   "source": [
    "def cnn_block(x, \n",
    "    n_layer=2, channel=32, kernel=(3,3), padding='same' ):\n",
    "    from keras import backend as K\n",
    "    channel_axis = 1 if K.image_data_format()=='channels_first' else 3\n",
    "    h = x\n",
    "    for _ in range(n_layer):\n",
    "        h = BatchNormalization()(h)\n",
    "        h = Activation('relu')(h)\n",
    "        h = Conv2D(channel, kernel, padding='same')(h)\n",
    "        \n",
    "    x = concatenate([h, x], axis=channel_axis)\n",
    "    return x"
   ]
  },
  {
   "cell_type": "code",
   "execution_count": null,
   "metadata": {},
   "outputs": [],
   "source": [
    "def block(x, \n",
    "    n_layer=2, channel=32, kernel=(3,3), padding='same' ):\n",
    "    from keras import backend as K\n",
    "    channel_axis = 1 if K.image_data_format()=='channels_first' else 3\n",
    "    h = x\n",
    "    for _ in range(n_layer):\n",
    "        h = BatchNormalization()(h)\n",
    "        h = Activation('relu')(h)\n",
    "        h = Conv2D(channel, kernel, padding='same')(h)\n",
    "        \n",
    "    x = concatenate([h, x], axis=channel_axis)\n",
    "    return x"
   ]
  },
  {
   "cell_type": "code",
   "execution_count": null,
   "metadata": {},
   "outputs": [],
   "source": [
    "@compute_loss()\n",
    "def lenet(n_out, input_shape=(96, 96, 3)):\n",
    "    inputs = Input(shape=input_shape)\n",
    "    x = inputs\n",
    "    x = Conv2D(32, (3, 3))(x)\n",
    "    x = block(x, n_layer=2)\n",
    "    x = AveragePooling2D(pool_size=(2, 2))(x)\n",
    "    x = block(x, n_layer=2)\n",
    "    x = AveragePooling2D(pool_size=(2, 2))(x)\n",
    "    x = Conv2D(n_out , (1, 1))(x)\n",
    "    x = GlobalAveragePooling2D()(x)\n",
    "    x = Activation('softmax')(x)\n",
    "    model = Model(inputs=inputs, outputs=x)\n",
    "    return model"
   ]
  },
  {
   "cell_type": "code",
   "execution_count": null,
   "metadata": {},
   "outputs": [],
   "source": [
    "lenet(x_train, y_train, x_test, y_test)"
   ]
  },
  {
   "cell_type": "code",
   "execution_count": null,
   "metadata": {},
   "outputs": [],
   "source": []
  }
 ],
 "metadata": {
  "kernelspec": {
   "display_name": "Environment (conda_aml)",
   "language": "python",
   "name": "conda_aml"
  },
  "language_info": {
   "codemirror_mode": {
    "name": "ipython",
    "version": 3
   },
   "file_extension": ".py",
   "mimetype": "text/x-python",
   "name": "python",
   "nbconvert_exporter": "python",
   "pygments_lexer": "ipython3",
   "version": "3.6.3"
  }
 },
 "nbformat": 4,
 "nbformat_minor": 2
}
