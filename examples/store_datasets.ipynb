{
 "cells": [
  {
   "cell_type": "code",
   "execution_count": 1,
   "metadata": {},
   "outputs": [
    {
     "name": "stderr",
     "output_type": "stream",
     "text": [
      "Using TensorFlow backend.\n",
      "/home/fytroo/anaconda3/lib/python3.6/importlib/_bootstrap.py:205: RuntimeWarning: compiletime version 3.5 of module 'tensorflow.python.framework.fast_tensor_util' does not match runtime version 3.6\n",
      "  return f(*args, **kwds)\n"
     ]
    }
   ],
   "source": [
    "import os\n",
    "import shutil\n",
    "import pandas as pd\n",
    "import sqlite3\n",
    "\n",
    "import utils\n",
    "\n",
    "from database import db, mongodb"
   ]
  },
  {
   "cell_type": "code",
   "execution_count": 2,
   "metadata": {},
   "outputs": [
    {
     "data": {
      "text/plain": [
       "<sqlite3.Cursor at 0x7fad339367a0>"
      ]
     },
     "execution_count": 2,
     "metadata": {},
     "output_type": "execute_result"
    }
   ],
   "source": [
    "dbname = 'curontab.db'\n",
    "conn = sqlite3.connect(dbname)\n",
    "c = conn.cursor()\n",
    "c.execute('PRAGMA foreign_keys=true')"
   ]
  },
  {
   "cell_type": "code",
   "execution_count": 3,
   "metadata": {
    "collapsed": true,
    "scrolled": true
   },
   "outputs": [],
   "source": [
    "client = pymongo.MongoClient('localhost',27017)\n",
    "db = client.curontab\n",
    "co = db.dataset"
   ]
  },
  {
   "cell_type": "code",
   "execution_count": 4,
   "metadata": {},
   "outputs": [
    {
     "name": "stderr",
     "output_type": "stream",
     "text": [
      "/home/fytroo/anaconda3/lib/python3.6/site-packages/ipykernel_launcher.py:28: DeprecationWarning: remove is deprecated. Use delete_one or delete_many instead.\n"
     ]
    },
    {
     "data": {
      "text/plain": [
       "{'n': 0, 'ok': 1}"
      ]
     },
     "execution_count": 4,
     "metadata": {},
     "output_type": "execute_result"
    }
   ],
   "source": [
    "try:\n",
    "    c.execute('drop table model')\n",
    "    c.execute('drop table upload_data')\n",
    "except:\n",
    "    pass\n",
    "\n",
    "q = '''\n",
    "create table model (\n",
    "    id integer primary key,\n",
    "    name varcher(64),\n",
    "    validation_table varcher(64),\n",
    "    dataset_id varcher(32),\n",
    "    dataset_name varcher(64)\n",
    ")\n",
    "'''\n",
    "c.execute(q)\n",
    "\n",
    "q = '''\n",
    "create table upload_data (\n",
    "    id integer primary key,\n",
    "    name varcher(64),\n",
    "    path varcher(64)\n",
    ")\n",
    "'''\n",
    "c.execute(q)\n",
    "conn.commit()\n",
    "\n",
    "co.remove({})"
   ]
  },
  {
   "cell_type": "code",
   "execution_count": 5,
   "metadata": {
    "collapsed": true
   },
   "outputs": [],
   "source": [
    "dataset_name = 'eyes'\n",
    "dataset_dir = os.path.join('dataset',dataset_name)\n",
    "labels = list(set(os.listdir(dataset_dir)))\n",
    "labels.sort()\n",
    "id2label = {i:label for i,label in enumerate(labels) }\n",
    "label2id = {label:i for i,label in enumerate(labels) }"
   ]
  },
  {
   "cell_type": "code",
   "execution_count": 6,
   "metadata": {},
   "outputs": [
    {
     "data": {
      "text/plain": [
       "{'data': [],\n",
       " 'label2id': {'AB': 0, 'N': 1},\n",
       " 'labels': ['AB', 'N'],\n",
       " 'models': [],\n",
       " 'name': 'eyes'}"
      ]
     },
     "execution_count": 6,
     "metadata": {},
     "output_type": "execute_result"
    }
   ],
   "source": [
    "dataset_info = {\n",
    "    'labels': list(labels),\n",
    "    'label2id': label2id,\n",
    "    'name': dataset_name,\n",
    "    'data':[],\n",
    "    'models':[],\n",
    "}\n",
    "dataset_info"
   ]
  },
  {
   "cell_type": "code",
   "execution_count": 7,
   "metadata": {
    "scrolled": true
   },
   "outputs": [
    {
     "name": "stderr",
     "output_type": "stream",
     "text": [
      "/home/fytroo/anaconda3/lib/python3.6/site-packages/ipykernel_launcher.py:1: DeprecationWarning: insert is deprecated. Use insert_one or insert_many instead.\n",
      "  \"\"\"Entry point for launching an IPython kernel.\n"
     ]
    },
    {
     "data": {
      "text/plain": [
       "ObjectId('5a26058ab037cbae7a7b2739')"
      ]
     },
     "execution_count": 7,
     "metadata": {},
     "output_type": "execute_result"
    }
   ],
   "source": [
    "dataset_id = co.insert(dataset_info)\n",
    "dataset_id"
   ]
  },
  {
   "cell_type": "code",
   "execution_count": 8,
   "metadata": {},
   "outputs": [
    {
     "name": "stderr",
     "output_type": "stream",
     "text": [
      "/home/fytroo/anaconda3/lib/python3.6/site-packages/ipykernel_launcher.py:5: DeprecationWarning: update is deprecated. Use replace_one, update_one or update_many instead.\n",
      "  \"\"\"\n"
     ]
    },
    {
     "data": {
      "text/plain": [
       "{'n': 1, 'nModified': 1, 'ok': 1, 'updatedExisting': True}"
      ]
     },
     "execution_count": 8,
     "metadata": {},
     "output_type": "execute_result"
    }
   ],
   "source": [
    "data_table = 'data_{}'.format(dataset_id)\n",
    "data_df = utils.df_fromdir_classed(dataset_dir)\n",
    "data_df['path'] = utils.format_dirname(dataset_dir) + data_df['label'] + '/' + data_df['fname']\n",
    "data_df.to_sql(data_table, conn)\n",
    "co.update({'_id':dataset_id},{'$set':{'data':data_table}})"
   ]
  },
  {
   "cell_type": "code",
   "execution_count": 9,
   "metadata": {},
   "outputs": [
    {
     "name": "stderr",
     "output_type": "stream",
     "text": [
      "/home/fytroo/anaconda3/lib/python3.6/site-packages/ipykernel_launcher.py:14: DeprecationWarning: insert is deprecated. Use insert_one or insert_many instead.\n",
      "  \n",
      "/home/fytroo/anaconda3/lib/python3.6/site-packages/ipykernel_launcher.py:19: DeprecationWarning: update is deprecated. Use replace_one, update_one or update_many instead.\n"
     ]
    },
    {
     "data": {
      "text/plain": [
       "{'n': 1, 'nModified': 1, 'ok': 1, 'updatedExisting': True}"
      ]
     },
     "execution_count": 9,
     "metadata": {},
     "output_type": "execute_result"
    }
   ],
   "source": [
    "dataset_name = 'brain'\n",
    "dataset_dir = os.path.join('dataset',dataset_name)\n",
    "labels = set(os.listdir(dataset_dir))\n",
    "id2label = {i:label for i,label in enumerate(labels) }\n",
    "label2id = {label:i for i,label in enumerate(labels) }\n",
    "\n",
    "dataset_info = {\n",
    "    'labels': list(labels),\n",
    "    'label2id': label2id,\n",
    "    'name': dataset_name,\n",
    "    'data':[],\n",
    "    'models':[],\n",
    "}\n",
    "dataset_id = co.insert(dataset_info)\n",
    "data_table = 'data_{}'.format(dataset_id)\n",
    "data_df = utils.df_fromdir_classed(dataset_dir)\n",
    "data_df['path'] = utils.format_dirname(dataset_dir) + data_df['label'] + '/' + data_df['fname']\n",
    "data_df.to_sql(data_table, conn)\n",
    "co.update({'_id':dataset_id},{'$set':{'data':data_table}})"
   ]
  },
  {
   "cell_type": "code",
   "execution_count": 10,
   "metadata": {
    "collapsed": true
   },
   "outputs": [],
   "source": [
    "conn.commit()\n",
    "conn.close()"
   ]
  }
 ],
 "metadata": {
  "kernelspec": {
   "display_name": "Python 3",
   "language": "python",
   "name": "python3"
  },
  "language_info": {
   "codemirror_mode": {
    "name": "ipython",
    "version": 3
   },
   "file_extension": ".py",
   "mimetype": "text/x-python",
   "name": "python",
   "nbconvert_exporter": "python",
   "pygments_lexer": "ipython3",
   "version": "3.6.2"
  }
 },
 "nbformat": 4,
 "nbformat_minor": 2
}
