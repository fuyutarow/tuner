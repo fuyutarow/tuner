{
 "cells": [
  {
   "cell_type": "code",
   "execution_count": 1,
   "metadata": {
    "collapsed": true
   },
   "outputs": [],
   "source": [
    "import os\n",
    "import random\n",
    "\n",
    "from urllib.parse import urlparse\n",
    "\n",
    "from PIL import Image\n",
    "import pandas as pd\n",
    "from flask import Flask, render_template, request, redirect, url_for, send_from_directory, session, jsonify, make_response\n",
    "from flask_cors import CORS, cross_origin\n",
    "\n",
    "from werkzeug import secure_filename\n"
   ]
  },
  {
   "cell_type": "code",
   "execution_count": 1,
   "metadata": {
    "scrolled": true
   },
   "outputs": [
    {
     "name": "stderr",
     "output_type": "stream",
     "text": [
      "Using TensorFlow backend.\n",
      "/home/fytroo/anaconda3/lib/python3.6/importlib/_bootstrap.py:205: RuntimeWarning: compiletime version 3.5 of module 'tensorflow.python.framework.fast_tensor_util' does not match runtime version 3.6\n",
      "  return f(*args, **kwds)\n"
     ]
    }
   ],
   "source": [
    "import os\n",
    "import random\n",
    "\n",
    "from urllib.parse import urlparse\n",
    "\n",
    "from PIL import Image\n",
    "import pandas as pd\n",
    "from flask import Flask, render_template, request, redirect, url_for, send_from_directory, session, jsonify, make_response\n",
    "from flask_cors import CORS, cross_origin\n",
    "\n",
    "from werkzeug import secure_filename\n",
    "\n",
    "import crud\n",
    "\n",
    "from database import db, mongodb"
   ]
  },
  {
   "cell_type": "code",
   "execution_count": 2,
   "metadata": {
    "collapsed": true,
    "scrolled": true
   },
   "outputs": [],
   "source": [
    "import os\n",
    "import random\n",
    "\n",
    "from urllib.parse import urlparse\n",
    "\n",
    "from PIL import Image\n",
    "import pandas as pd\n",
    "from flask import Flask, render_template, request, redirect, url_for, send_from_directory, session, jsonify, make_response\n",
    "from flask_cors import CORS, cross_origin\n",
    "\n",
    "from werkzeug import secure_filename\n",
    "\n",
    "import utils\n",
    "import crud\n",
    "import pred\n",
    "\n",
    "from database import db, mongodb"
   ]
  },
  {
   "cell_type": "code",
   "execution_count": 3,
   "metadata": {
    "collapsed": true
   },
   "outputs": [],
   "source": [
    "app = Flask(__name__, static_folder='dataset')\n",
    "CORS(app)\n",
    "\n",
    "app.config['UPLOAD_FOLDER'] = 'uploads/'\n",
    "app.config['ALLOWED_EXTENSIONS'] = set(['png', 'jpg', 'jpeg', 'gif', 'JPG'])\n",
    "try:\n",
    "    app.config['ROOT_DIR'] = os.path.dirname(os.path.abspath(__file__))\n",
    "except:\n",
    "    app.config['ROOT_DIR'] = './'"
   ]
  },
  {
   "cell_type": "code",
   "execution_count": 3,
   "metadata": {
    "collapsed": true
   },
   "outputs": [],
   "source": [
    "tester = app.test_client()\n",
    "render = lambda url: print(tester.get(url).data.decode('utf-8'))"
   ]
  },
  {
   "cell_type": "code",
   "execution_count": 4,
   "metadata": {
    "collapsed": true,
    "scrolled": true
   },
   "outputs": [],
   "source": [
    "@app.route('/')\n",
    "def index():\n",
    "    return render_template('index.html')"
   ]
  },
  {
   "cell_type": "code",
   "execution_count": 5,
   "metadata": {
    "collapsed": true
   },
   "outputs": [],
   "source": [
    "def allowed_file(filename):\n",
    "    return '.' in filename and \\\n",
    "           filename.rsplit('.', 1)[1] in app.config['ALLOWED_EXTENSIONS']"
   ]
  },
  {
   "cell_type": "code",
   "execution_count": 6,
   "metadata": {
    "collapsed": true
   },
   "outputs": [],
   "source": [
    "@app.route('/v1/upload', methods=['POST'])\n",
    "def upload():\n",
    "    uploaded_files = request.files.getlist(\"file[]\")\n",
    "    res = []\n",
    "    for file in uploaded_files:\n",
    "        if file and allowed_file(file.filename):\n",
    "            filename = secure_filename(file.filename)\n",
    "            file_path = os.path.join(app.config['UPLOAD_FOLDER'], filename)\n",
    "            file.save(file_path)\n",
    "            data_id = crud.upload_data(filename, file_path)\n",
    "            r = crud.uploaded_data(data_id)\n",
    "            res.append(r)\n",
    "    return make_response(jsonify(res))"
   ]
  },
  {
   "cell_type": "code",
   "execution_count": 7,
   "metadata": {
    "collapsed": true
   },
   "outputs": [],
   "source": [
    "@app.route('/v1/uploads')\n",
    "def res_uploaded_files():\n",
    "    limit = request.args.get('limit', default=-1, type=int)\n",
    "    df = crud.uploads_df()\n",
    "    res = list(df.T.to_dict().values())[:limit]\n",
    "    return make_response(jsonify(res))"
   ]
  },
  {
   "cell_type": "code",
   "execution_count": 8,
   "metadata": {
    "collapsed": true
   },
   "outputs": [],
   "source": [
    "@app.route('/uploads/<filename>')\n",
    "def res_uploaded_file(filename):\n",
    "    return send_from_directory(app.config['UPLOAD_FOLDER'], filename)"
   ]
  },
  {
   "cell_type": "code",
   "execution_count": 9,
   "metadata": {
    "collapsed": true
   },
   "outputs": [],
   "source": [
    "@app.route('/v1/scores')\n",
    "def res_Scores():\n",
    "    #model_id = request.args.get('model', type=str)\n",
    "    #try:\n",
    "    #    int(model_id)\n",
    "    #except:\n",
    "    #    model_id = None\n",
    "    model_id = request.args.get('model', type=int)\n",
    "    limit = request.args.get('limit', default=-1, type=int)\n",
    "    preds = crud.scores(model_id)\n",
    "    res = []\n",
    "    for pred in preds[:limit]:\n",
    "        res.append({\n",
    "            'data_id': int(pred['data_id']),\n",
    "            'fname': pred['fname'],\n",
    "            'label': pred['label'],\n",
    "            'match': pred['match'],\n",
    "            'label_pred': pred['pred_label'],\n",
    "            'pred': int(pred['pred']),\n",
    "            'y_pred': [ float(e) for e in pred['y_pred']]\n",
    "        })\n",
    "    return make_response(jsonify(res))\n",
    "#render('/v1/scores?model=1')"
   ]
  },
  {
   "cell_type": "code",
   "execution_count": 10,
   "metadata": {
    "collapsed": true
   },
   "outputs": [],
   "source": [
    "@app.route('/v1/preds')\n",
    "def res_pred():\n",
    "    model_id = request.args.get('model', type=int)\n",
    "    fname = request.args.get('fname', type=str)\n",
    "    data_path = os.path.join(app.config['UPLOAD_FOLDER'], fname)\n",
    "    print(data_path, model_id)\n",
    "    preds = pred.judge_img_by_data_path(data_path, model_id)\n",
    "    res = {\n",
    "        'model_id': preds['model_id'],\n",
    "        'path': preds['path'],\n",
    "        'label_pred': str(preds['label_pred']),\n",
    "        'pred': int(preds['pred']),\n",
    "        'y_pred': [ float(e) for e in preds['y_pred']]\n",
    "    }\n",
    "    return make_response(jsonify(res))\n",
    "#render('/v1/preds?fname=105_0018.JPG&model=1')"
   ]
  },
  {
   "cell_type": "code",
   "execution_count": 11,
   "metadata": {
    "collapsed": true
   },
   "outputs": [],
   "source": [
    "@app.route('/v1/datasets')\n",
    "def res_datasets():\n",
    "    name = request.args.get('name', type=str)\n",
    "    res =\\\n",
    "        crud.dataset_by_name(name) if name else\\\n",
    "        crud.datasets()\n",
    "    return make_response(jsonify(res))\n",
    "\n",
    "#render('/v1/datasets')"
   ]
  },
  {
   "cell_type": "code",
   "execution_count": 12,
   "metadata": {
    "collapsed": true
   },
   "outputs": [],
   "source": [
    "@app.route('/v1/datasets/<string:model_id>')\n",
    "def res_dataset(model_id):\n",
    "    res = crud.dataset_by_id(model_id)\n",
    "    return make_response(jsonify(res))\n",
    "#render('/v1/datasets/5a2524cf94a27008a9abc554')\n",
    "\n",
    "#render('/v1/datasets/5a2524cf94a27008a9abc554')"
   ]
  },
  {
   "cell_type": "code",
   "execution_count": 13,
   "metadata": {
    "collapsed": true
   },
   "outputs": [],
   "source": [
    "@app.route('/v1/models')\n",
    "def res_models():\n",
    "    limit = request.args.get('limit', default=-1, type=int)\n",
    "    df = crud.models()\n",
    "    res = list(df.T.to_dict().values())[:limit]\n",
    "    return make_response(jsonify(res))\n",
    "#render('/v1/models')"
   ]
  },
  {
   "cell_type": "code",
   "execution_count": 14,
   "metadata": {
    "collapsed": true
   },
   "outputs": [],
   "source": [
    "@app.route('/v1/models/<int:model_id>')\n",
    "def res_model(model_id):\n",
    "    res = crud.model_by_id(model_id)\n",
    "    return make_response(jsonify(res))\n",
    "\n",
    "#render('/v1/models/1')"
   ]
  },
  {
   "cell_type": "code",
   "execution_count": null,
   "metadata": {
    "collapsed": true
   },
   "outputs": [],
   "source": [
    "if __name__ == '__main__':\n",
    "    import argparse\n",
    "    parser = argparse.ArgumentParser(description='eval model')\n",
    "    parser.add_argument('--port', '-p', type=int, default=3000, help='port')\n",
    "    parser.add_argument('--gpu', '-g', type=int, default=-1, help='gpu On or Off')\n",
    "    args = parser.parse_args()\n",
    "\n",
    "    app.debug = True\n",
    "    app.run(port=args.port)"
   ]
  }
 ],
 "metadata": {
  "kernelspec": {
   "display_name": "Python 3",
   "language": "python",
   "name": "python3"
  },
  "language_info": {
   "codemirror_mode": {
    "name": "ipython",
    "version": 3
   },
   "file_extension": ".py",
   "mimetype": "text/x-python",
   "name": "python",
   "nbconvert_exporter": "python",
   "pygments_lexer": "ipython3",
   "version": "3.6.1"
  }
 },
 "nbformat": 4,
 "nbformat_minor": 2
}
