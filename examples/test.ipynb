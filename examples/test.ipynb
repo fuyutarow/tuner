{
 "cells": [
  {
   "cell_type": "code",
   "execution_count": 1,
   "metadata": {},
   "outputs": [
    {
     "name": "stderr",
     "output_type": "stream",
     "text": [
      "Using TensorFlow backend.\n"
     ]
    }
   ],
   "source": [
    "import tensorflow as tf\n",
    "import keras\n",
    "from keras import backend as K\n",
    "from keras.datasets import mnist\n",
    "from keras.layers.core import Dense, Dropout, Activation\n",
    "from keras.layers import BatchNormalization, Conv2D, Flatten\n",
    "from keras.layers import Input, Convolution2D, MaxPooling2D, Activation, concatenate, Dropout\n",
    "from keras.models import Sequential, Model\n",
    "from keras.utils import np_utils, to_categorical\n",
    "\n",
    "from tuner import utils\n",
    "from tuner.tune import compute_loss"
   ]
  },
  {
   "cell_type": "code",
   "execution_count": 2,
   "metadata": {},
   "outputs": [],
   "source": [
    "train_dir = 'dataset/brain/train'\n",
    "validation = 'dataset/brain/validation'\n",
    "df_train = utils.df_fromdir(train_dir)\n",
    "df_test = utils.df_fromdir(train_dir)\n",
    "\n",
    "x_train, y_train = load_data.load_fromdf(df_train)\n",
    "x_test, y_test = load_data.load_fromdf(df_test)\n",
    "y_train = to_categorical(y_train)\n",
    "y_test = to_categorical(y_test)"
   ]
  },
  {
   "cell_type": "code",
   "execution_count": 5,
   "metadata": {},
   "outputs": [],
   "source": [
    "@compute_loss(\n",
    "    epochs=10)\n",
    "def lenet(n_out, input_shape=(96, 96, 3)):\n",
    "    model = Sequential()\n",
    "    model.add(Conv2D(32, (3, 3), padding='same', input_shape=input_shape))\n",
    "    model.add(Conv2D(32, (3, 3)))\n",
    "    model.add(Activation('relu'))\n",
    "    model.add(MaxPooling3D(pool_size=(2, 2)))\n",
    "    model.add(Dropout(0.25))\n",
    "    model.add(Conv2D(64, (3, 3), padding='same'))\n",
    "    model.add(Activation('relu'))\n",
    "    model.add(Conv2D(64, (3, 3)))\n",
    "    model.add(Activation('relu'))\n",
    "    model.add(MaxPooling2D(pool_size=(2, 2)))\n",
    "    model.add(Dropout(0.25))\n",
    "    model.add(Flatten())\n",
    "    model.add(Dense(512))\n",
    "    model.add(Activation('relu'))\n",
    "    model.add(Dropout(0.5))\n",
    "    model.add(Dense(n_out))\n",
    "    model.add(Activation('softmax'))\n",
    "    return model"
   ]
  },
  {
   "cell_type": "code",
   "execution_count": 6,
   "metadata": {},
   "outputs": [
    {
     "name": "stdout",
     "output_type": "stream",
     "text": [
      "Train on 226 samples, validate on 226 samples\n",
      "Epoch 1/10\n",
      " - 1s - loss: 11.1987 - acc: 0.2965 - val_loss: 10.8405 - val_acc: 0.3274\n",
      "Epoch 2/10\n",
      " - 1s - loss: 10.8405 - acc: 0.3274 - val_loss: 10.8405 - val_acc: 0.3274\n",
      "Epoch 3/10\n",
      " - 1s - loss: 10.8405 - acc: 0.3274 - val_loss: 10.8405 - val_acc: 0.3274\n",
      "Epoch 4/10\n",
      " - 1s - loss: 10.8405 - acc: 0.3274 - val_loss: 10.8405 - val_acc: 0.3274\n",
      "Epoch 5/10\n",
      " - 1s - loss: 10.8405 - acc: 0.3274 - val_loss: 10.8405 - val_acc: 0.3274\n",
      "Epoch 6/10\n",
      " - 1s - loss: 10.8405 - acc: 0.3274 - val_loss: 10.8405 - val_acc: 0.3274\n",
      "Epoch 7/10\n",
      " - 1s - loss: 10.8405 - acc: 0.3274 - val_loss: 10.8405 - val_acc: 0.3274\n",
      "Epoch 8/10\n",
      " - 1s - loss: 10.8405 - acc: 0.3274 - val_loss: 10.8405 - val_acc: 0.3274\n",
      "Epoch 9/10\n",
      " - 1s - loss: 10.8405 - acc: 0.3274 - val_loss: 10.8405 - val_acc: 0.3274\n",
      "Epoch 10/10\n",
      " - 1s - loss: 10.8405 - acc: 0.3274 - val_loss: 10.8405 - val_acc: 0.3274\n",
      "Test accuracy: 0.327433628319\n"
     ]
    },
    {
     "data": {
      "text/plain": [
       "{'loss': -0.32743362831858408,\n",
       " 'model': <keras.models.Sequential at 0x7fd050499d30>,\n",
       " 'status': 'ok'}"
      ]
     },
     "execution_count": 6,
     "metadata": {},
     "output_type": "execute_result"
    }
   ],
   "source": [
    "lenet(x_train, y_train, x_test, y_test)"
   ]
  },
  {
   "cell_type": "code",
   "execution_count": null,
   "metadata": {},
   "outputs": [],
   "source": []
  }
 ],
 "metadata": {
  "kernelspec": {
   "display_name": "Environment (conda_aml)",
   "language": "python",
   "name": "conda_aml"
  },
  "language_info": {
   "codemirror_mode": {
    "name": "ipython",
    "version": 3
   },
   "file_extension": ".py",
   "mimetype": "text/x-python",
   "name": "python",
   "nbconvert_exporter": "python",
   "pygments_lexer": "ipython3",
   "version": "3.6.3"
  }
 },
 "nbformat": 4,
 "nbformat_minor": 2
}
