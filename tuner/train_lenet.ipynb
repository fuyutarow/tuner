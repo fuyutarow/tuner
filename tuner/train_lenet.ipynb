{
 "cells": [
  {
   "cell_type": "code",
   "execution_count": 3,
   "metadata": {},
   "outputs": [
    {
     "name": "stderr",
     "output_type": "stream",
     "text": [
      "Using TensorFlow backend.\n"
     ]
    }
   ],
   "source": [
    "import os\n",
    "import shutil\n",
    "import random\n",
    "import pandas as pd\n",
    "import sqlite3\n",
    "\n",
    "#from sklearn.metrics import f1_score, accuracy_score, recall_score, confusion_matrix\n",
    "\n",
    "from PIL import Image\n",
    "import Augmentor\n",
    "\n",
    "from tuner import utils\n",
    "#import crud\n",
    "from tuner import net\n",
    "\n",
    "from database import db, mongodb"
   ]
  },
  {
   "cell_type": "code",
   "execution_count": 4,
   "metadata": {},
   "outputs": [],
   "source": [
    "imgnet = net.lenet1\n",
    "dataset_name = 'brain'\n",
    "batch_size = 32\n",
    "epochs = 10"
   ]
  },
  {
   "cell_type": "code",
   "execution_count": null,
   "metadata": {
    "collapsed": true
   },
   "outputs": [],
   "source": [
    "import argparse\n",
    "parser = argparse.ArgumentParser(description='')\n",
    "parser.add_argument('--net', '-n', type=str,\n",
    "                    help='model file name')\n",
    "parser.add_argument('--weights', '-w', type=str,\n",
    "                    help='weights file name')\n",
    "parser.add_argument('--data', '-d', type=str,\n",
    "                    help='set_data file name')\n",
    "parser.add_argument('--id', '-i', type=str, default=None,\n",
    "                    help='')\n",
    "parser.add_argument('--epochs', '-e', type=int, default=100,\n",
    "                    help='n epochs')\n",
    "parser.add_argument('--batch', '-b', type=int, default=32,\n",
    "                    help='batch size')\n",
    "parser.add_argument('--augment', '-a', type=str, default=None,\n",
    "                    help='brain or eyes')\n",
    "args = parser.parse_args()\n",
    "\n",
    "imgnet = eval(args.net)\n",
    "dataset_name = args.data\n",
    "batch_size = args.batch\n",
    "epochs = args.epochs"
   ]
  },
  {
   "cell_type": "code",
   "execution_count": 3,
   "metadata": {},
   "outputs": [
    {
     "data": {
      "text/plain": [
       "<sqlite3.Cursor at 0x7f7754df5420>"
      ]
     },
     "execution_count": 3,
     "metadata": {},
     "output_type": "execute_result"
    }
   ],
   "source": [
    "dbname = 'curontab.db'\n",
    "conn = sqlite3.connect(dbname)\n",
    "c = conn.cursor()\n",
    "c.execute('PRAGMA foreign_keys=true')"
   ]
  },
  {
   "cell_type": "code",
   "execution_count": 4,
   "metadata": {
    "collapsed": true
   },
   "outputs": [],
   "source": [
    "client = pymongo.MongoClient('localhost',27017)\n",
    "db = client.curontab\n",
    "co = db.dataset"
   ]
  },
  {
   "cell_type": "markdown",
   "metadata": {},
   "source": [
    "DBからデータセットの属性を取得"
   ]
  },
  {
   "cell_type": "code",
   "execution_count": 5,
   "metadata": {
    "scrolled": true
   },
   "outputs": [
    {
     "data": {
      "text/plain": [
       "[{'data': 'data_5a25fdc9b037cba52f2e6b5f',\n",
       "  'id': '5a25fdc9b037cba52f2e6b5f',\n",
       "  'label2id': {'AB': 0, 'N': 1},\n",
       "  'labels': ['AB', 'N'],\n",
       "  'models': [],\n",
       "  'name': 'eyes'},\n",
       " {'data': 'data_5a25fdc9b037cba52f2e6b60',\n",
       "  'id': '5a25fdc9b037cba52f2e6b60',\n",
       "  'label2id': {'MS': 3, 'N': 0, 'PD': 2, 'PS': 1},\n",
       "  'labels': ['N', 'PS', 'PD', 'MS'],\n",
       "  'models': [],\n",
       "  'name': 'brain'}]"
      ]
     },
     "execution_count": 5,
     "metadata": {},
     "output_type": "execute_result"
    }
   ],
   "source": [
    "crud.datasets()"
   ]
  },
  {
   "cell_type": "code",
   "execution_count": 6,
   "metadata": {},
   "outputs": [
    {
     "data": {
      "text/html": [
       "<div>\n",
       "<style scoped>\n",
       "    .dataframe tbody tr th:only-of-type {\n",
       "        vertical-align: middle;\n",
       "    }\n",
       "\n",
       "    .dataframe tbody tr th {\n",
       "        vertical-align: top;\n",
       "    }\n",
       "\n",
       "    .dataframe thead th {\n",
       "        text-align: right;\n",
       "    }\n",
       "</style>\n",
       "<table border=\"1\" class=\"dataframe\">\n",
       "  <thead>\n",
       "    <tr style=\"text-align: right;\">\n",
       "      <th></th>\n",
       "      <th>id</th>\n",
       "      <th>name</th>\n",
       "      <th>validation_table</th>\n",
       "      <th>dataset_id</th>\n",
       "    </tr>\n",
       "  </thead>\n",
       "  <tbody>\n",
       "  </tbody>\n",
       "</table>\n",
       "</div>"
      ],
      "text/plain": [
       "Empty DataFrame\n",
       "Columns: [id, name, validation_table, dataset_id]\n",
       "Index: []"
      ]
     },
     "execution_count": 6,
     "metadata": {},
     "output_type": "execute_result"
    }
   ],
   "source": [
    "crud.models()"
   ]
  },
  {
   "cell_type": "code",
   "execution_count": 7,
   "metadata": {
    "collapsed": true
   },
   "outputs": [],
   "source": [
    "dataset= dataset_info = crud.dataset_by_name(dataset_name)\n",
    "dataset_id = dataset['id']\n",
    "labels = dataset['labels']\n",
    "labels.sort()\n",
    "label2id = dataset['label2id']\n",
    "id2label = {i:label for label,i in label2id.items()}\n",
    "df = data_df = crud.data_df_by_dataset_name(dataset_name)\n",
    "\n",
    "ROOT_DIR = '.'\n",
    "dataset_dir = os.path.join(ROOT_DIR, 'dataset', dataset['name'])"
   ]
  },
  {
   "cell_type": "code",
   "execution_count": 8,
   "metadata": {
    "collapsed": true
   },
   "outputs": [],
   "source": [
    "df_train, df_test = utils.train_test_split_df(df)"
   ]
  },
  {
   "cell_type": "code",
   "execution_count": 9,
   "metadata": {
    "collapsed": true
   },
   "outputs": [],
   "source": [
    "if dataset_name == 'eyes':\n",
    "    df_train = utils.oversampling_df(df_train, 600)\n",
    "x_train, y_train = utils.data_fromdf(df_train, dataset_dir, label2id, resize=(96,96))\n",
    "x_test, y_test = utils.data_fromdf(df_test, dataset_dir, label2id, resize=(96,96))"
   ]
  },
  {
   "cell_type": "code",
   "execution_count": 10,
   "metadata": {
    "collapsed": true
   },
   "outputs": [],
   "source": [
    "p = Augmentor.Pipeline()\n",
    "\n",
    "if dataset_name == 'eyes':\n",
    "    p.shear(probability=0.2, max_shear_left=2, max_shear_right=2)\n",
    "    p.crop_random(probability=0.2, percentage_area=0.95)\n",
    "    p.resize(probability=1, width=96, height=96)\n",
    "if dataset_name == 'brain':\n",
    "    p.shear(probability=0.2, max_shear_left=2, max_shear_right=2)\n",
    "    p.crop_random(probability=0.2, percentage_area=0.95)\n",
    "    p.resize(probability=1, width=96, height=96)\n",
    "\n",
    "g = p.keras_generator_from_array(x_train, y_train, batch_size=batch_size)\n",
    "g = ( (xs/255,ys) for (xs,ys) in g)"
   ]
  },
  {
   "cell_type": "code",
   "execution_count": 11,
   "metadata": {
    "collapsed": true
   },
   "outputs": [],
   "source": [
    "import keras\n",
    "n_out = len(labels)\n",
    "model = net.lenet1(n_out)\n",
    "model.compile(loss='categorical_crossentropy',\n",
    "              optimizer=keras.optimizers.Adam(lr=0.001, beta_1=0.9, beta_2=0.999),\n",
    "              metrics=['accuracy'])"
   ]
  },
  {
   "cell_type": "code",
   "execution_count": 12,
   "metadata": {
    "scrolled": true
   },
   "outputs": [
    {
     "name": "stdout",
     "output_type": "stream",
     "text": [
      "Epoch 1/10\n",
      "7/7 [==============================] - 3s 484ms/step - loss: 1.7619 - acc: 0.2589 - val_loss: 10.3761 - val_acc: 0.2500\n",
      "Epoch 2/10\n",
      "7/7 [==============================] - 0s 33ms/step - loss: 1.3802 - acc: 0.3571 - val_loss: 6.8872 - val_acc: 0.5000\n",
      "Epoch 3/10\n",
      "7/7 [==============================] - 0s 33ms/step - loss: 1.3384 - acc: 0.4554 - val_loss: 9.1019 - val_acc: 0.3500\n",
      "Epoch 4/10\n",
      "7/7 [==============================] - 0s 33ms/step - loss: 1.2917 - acc: 0.3795 - val_loss: 9.9095 - val_acc: 0.3500\n",
      "Epoch 5/10\n",
      "7/7 [==============================] - 0s 33ms/step - loss: 1.1114 - acc: 0.5491 - val_loss: 8.0590 - val_acc: 0.5000\n",
      "Epoch 6/10\n",
      "7/7 [==============================] - 0s 33ms/step - loss: 1.0021 - acc: 0.6071 - val_loss: 8.0590 - val_acc: 0.5000\n",
      "Epoch 7/10\n",
      "7/7 [==============================] - 0s 33ms/step - loss: 1.0907 - acc: 0.5045 - val_loss: 4.8499 - val_acc: 0.7000\n",
      "Epoch 8/10\n",
      "7/7 [==============================] - 0s 33ms/step - loss: 1.0741 - acc: 0.5536 - val_loss: 6.4616 - val_acc: 0.6000\n",
      "Epoch 9/10\n",
      "7/7 [==============================] - 0s 33ms/step - loss: 0.9341 - acc: 0.5982 - val_loss: 4.1307 - val_acc: 0.7000\n",
      "Epoch 10/10\n",
      "7/7 [==============================] - 0s 33ms/step - loss: 0.9390 - acc: 0.6250 - val_loss: 8.0590 - val_acc: 0.5000\n"
     ]
    },
    {
     "data": {
      "text/plain": [
       "<keras.callbacks.History at 0x7f7753575320>"
      ]
     },
     "execution_count": 12,
     "metadata": {},
     "output_type": "execute_result"
    }
   ],
   "source": [
    "model.fit_generator(\n",
    "    g,\n",
    "    validation_data=(x_test, y_test),\n",
    "    steps_per_epoch=len(x_train) // batch_size,\n",
    "    epochs=epochs,\n",
    "    shuffle=True,\n",
    "    verbose=1,\n",
    "    )"
   ]
  },
  {
   "cell_type": "code",
   "execution_count": 13,
   "metadata": {},
   "outputs": [
    {
     "data": {
      "text/html": [
       "<div>\n",
       "<style scoped>\n",
       "    .dataframe tbody tr th:only-of-type {\n",
       "        vertical-align: middle;\n",
       "    }\n",
       "\n",
       "    .dataframe tbody tr th {\n",
       "        vertical-align: top;\n",
       "    }\n",
       "\n",
       "    .dataframe thead th {\n",
       "        text-align: right;\n",
       "    }\n",
       "</style>\n",
       "<table border=\"1\" class=\"dataframe\">\n",
       "  <thead>\n",
       "    <tr style=\"text-align: right;\">\n",
       "      <th></th>\n",
       "      <th>0</th>\n",
       "      <th>1</th>\n",
       "      <th>2</th>\n",
       "      <th>3</th>\n",
       "      <th>data_id</th>\n",
       "      <th>fname</th>\n",
       "      <th>label</th>\n",
       "      <th>path</th>\n",
       "      <th>true</th>\n",
       "      <th>pred</th>\n",
       "      <th>pred_label</th>\n",
       "      <th>match</th>\n",
       "      <th>t_or_v</th>\n",
       "    </tr>\n",
       "  </thead>\n",
       "  <tbody>\n",
       "    <tr>\n",
       "      <th>0</th>\n",
       "      <td>0.0</td>\n",
       "      <td>0.000000e+00</td>\n",
       "      <td>1.0</td>\n",
       "      <td>0.0</td>\n",
       "      <td>227</td>\n",
       "      <td>PS71.jpg</td>\n",
       "      <td>PS</td>\n",
       "      <td>./dataset/brain/PS/PS71.jpg</td>\n",
       "      <td>1</td>\n",
       "      <td>2</td>\n",
       "      <td>PD</td>\n",
       "      <td>False</td>\n",
       "      <td>validation</td>\n",
       "    </tr>\n",
       "    <tr>\n",
       "      <th>1</th>\n",
       "      <td>0.0</td>\n",
       "      <td>5.560023e-31</td>\n",
       "      <td>1.0</td>\n",
       "      <td>0.0</td>\n",
       "      <td>212</td>\n",
       "      <td>PS73.jpg</td>\n",
       "      <td>PS</td>\n",
       "      <td>./dataset/brain/PS/PS73.jpg</td>\n",
       "      <td>1</td>\n",
       "      <td>2</td>\n",
       "      <td>PD</td>\n",
       "      <td>False</td>\n",
       "      <td>validation</td>\n",
       "    </tr>\n",
       "    <tr>\n",
       "      <th>2</th>\n",
       "      <td>0.0</td>\n",
       "      <td>0.000000e+00</td>\n",
       "      <td>1.0</td>\n",
       "      <td>0.0</td>\n",
       "      <td>225</td>\n",
       "      <td>PS102.jpg</td>\n",
       "      <td>PS</td>\n",
       "      <td>./dataset/brain/PS/PS102.jpg</td>\n",
       "      <td>1</td>\n",
       "      <td>2</td>\n",
       "      <td>PD</td>\n",
       "      <td>False</td>\n",
       "      <td>validation</td>\n",
       "    </tr>\n",
       "    <tr>\n",
       "      <th>3</th>\n",
       "      <td>0.0</td>\n",
       "      <td>0.000000e+00</td>\n",
       "      <td>1.0</td>\n",
       "      <td>0.0</td>\n",
       "      <td>202</td>\n",
       "      <td>PS72.jpg</td>\n",
       "      <td>PS</td>\n",
       "      <td>./dataset/brain/PS/PS72.jpg</td>\n",
       "      <td>1</td>\n",
       "      <td>2</td>\n",
       "      <td>PD</td>\n",
       "      <td>False</td>\n",
       "      <td>validation</td>\n",
       "    </tr>\n",
       "    <tr>\n",
       "      <th>4</th>\n",
       "      <td>0.0</td>\n",
       "      <td>3.850853e-27</td>\n",
       "      <td>1.0</td>\n",
       "      <td>0.0</td>\n",
       "      <td>234</td>\n",
       "      <td>PS019.jpg</td>\n",
       "      <td>PS</td>\n",
       "      <td>./dataset/brain/PS/PS019.jpg</td>\n",
       "      <td>1</td>\n",
       "      <td>2</td>\n",
       "      <td>PD</td>\n",
       "      <td>False</td>\n",
       "      <td>validation</td>\n",
       "    </tr>\n",
       "    <tr>\n",
       "      <th>5</th>\n",
       "      <td>1.0</td>\n",
       "      <td>0.000000e+00</td>\n",
       "      <td>0.0</td>\n",
       "      <td>0.0</td>\n",
       "      <td>7</td>\n",
       "      <td>MS162.jpg</td>\n",
       "      <td>MS</td>\n",
       "      <td>./dataset/brain/MS/MS162.jpg</td>\n",
       "      <td>3</td>\n",
       "      <td>0</td>\n",
       "      <td>N</td>\n",
       "      <td>False</td>\n",
       "      <td>validation</td>\n",
       "    </tr>\n",
       "    <tr>\n",
       "      <th>6</th>\n",
       "      <td>1.0</td>\n",
       "      <td>0.000000e+00</td>\n",
       "      <td>0.0</td>\n",
       "      <td>0.0</td>\n",
       "      <td>48</td>\n",
       "      <td>MS142.jpg</td>\n",
       "      <td>MS</td>\n",
       "      <td>./dataset/brain/MS/MS142.jpg</td>\n",
       "      <td>3</td>\n",
       "      <td>0</td>\n",
       "      <td>N</td>\n",
       "      <td>False</td>\n",
       "      <td>validation</td>\n",
       "    </tr>\n",
       "    <tr>\n",
       "      <th>7</th>\n",
       "      <td>1.0</td>\n",
       "      <td>0.000000e+00</td>\n",
       "      <td>0.0</td>\n",
       "      <td>0.0</td>\n",
       "      <td>30</td>\n",
       "      <td>MS128.jpg</td>\n",
       "      <td>MS</td>\n",
       "      <td>./dataset/brain/MS/MS128.jpg</td>\n",
       "      <td>3</td>\n",
       "      <td>0</td>\n",
       "      <td>N</td>\n",
       "      <td>False</td>\n",
       "      <td>validation</td>\n",
       "    </tr>\n",
       "    <tr>\n",
       "      <th>8</th>\n",
       "      <td>1.0</td>\n",
       "      <td>0.000000e+00</td>\n",
       "      <td>0.0</td>\n",
       "      <td>0.0</td>\n",
       "      <td>3</td>\n",
       "      <td>MS161.jpg</td>\n",
       "      <td>MS</td>\n",
       "      <td>./dataset/brain/MS/MS161.jpg</td>\n",
       "      <td>3</td>\n",
       "      <td>0</td>\n",
       "      <td>N</td>\n",
       "      <td>False</td>\n",
       "      <td>validation</td>\n",
       "    </tr>\n",
       "    <tr>\n",
       "      <th>9</th>\n",
       "      <td>1.0</td>\n",
       "      <td>0.000000e+00</td>\n",
       "      <td>0.0</td>\n",
       "      <td>0.0</td>\n",
       "      <td>44</td>\n",
       "      <td>MS126.jpg</td>\n",
       "      <td>MS</td>\n",
       "      <td>./dataset/brain/MS/MS126.jpg</td>\n",
       "      <td>3</td>\n",
       "      <td>0</td>\n",
       "      <td>N</td>\n",
       "      <td>False</td>\n",
       "      <td>validation</td>\n",
       "    </tr>\n",
       "    <tr>\n",
       "      <th>10</th>\n",
       "      <td>0.0</td>\n",
       "      <td>0.000000e+00</td>\n",
       "      <td>1.0</td>\n",
       "      <td>0.0</td>\n",
       "      <td>75</td>\n",
       "      <td>PD102.jpg</td>\n",
       "      <td>PD</td>\n",
       "      <td>./dataset/brain/PD/PD102.jpg</td>\n",
       "      <td>2</td>\n",
       "      <td>2</td>\n",
       "      <td>PD</td>\n",
       "      <td>True</td>\n",
       "      <td>validation</td>\n",
       "    </tr>\n",
       "    <tr>\n",
       "      <th>11</th>\n",
       "      <td>0.0</td>\n",
       "      <td>0.000000e+00</td>\n",
       "      <td>1.0</td>\n",
       "      <td>0.0</td>\n",
       "      <td>62</td>\n",
       "      <td>PD090.jpg</td>\n",
       "      <td>PD</td>\n",
       "      <td>./dataset/brain/PD/PD090.jpg</td>\n",
       "      <td>2</td>\n",
       "      <td>2</td>\n",
       "      <td>PD</td>\n",
       "      <td>True</td>\n",
       "      <td>validation</td>\n",
       "    </tr>\n",
       "    <tr>\n",
       "      <th>12</th>\n",
       "      <td>0.0</td>\n",
       "      <td>0.000000e+00</td>\n",
       "      <td>1.0</td>\n",
       "      <td>0.0</td>\n",
       "      <td>79</td>\n",
       "      <td>PD097.jpg</td>\n",
       "      <td>PD</td>\n",
       "      <td>./dataset/brain/PD/PD097.jpg</td>\n",
       "      <td>2</td>\n",
       "      <td>2</td>\n",
       "      <td>PD</td>\n",
       "      <td>True</td>\n",
       "      <td>validation</td>\n",
       "    </tr>\n",
       "    <tr>\n",
       "      <th>13</th>\n",
       "      <td>0.0</td>\n",
       "      <td>0.000000e+00</td>\n",
       "      <td>1.0</td>\n",
       "      <td>0.0</td>\n",
       "      <td>99</td>\n",
       "      <td>PD101.jpg</td>\n",
       "      <td>PD</td>\n",
       "      <td>./dataset/brain/PD/PD101.jpg</td>\n",
       "      <td>2</td>\n",
       "      <td>2</td>\n",
       "      <td>PD</td>\n",
       "      <td>True</td>\n",
       "      <td>validation</td>\n",
       "    </tr>\n",
       "    <tr>\n",
       "      <th>14</th>\n",
       "      <td>0.0</td>\n",
       "      <td>0.000000e+00</td>\n",
       "      <td>1.0</td>\n",
       "      <td>0.0</td>\n",
       "      <td>66</td>\n",
       "      <td>PD043.jpg</td>\n",
       "      <td>PD</td>\n",
       "      <td>./dataset/brain/PD/PD043.jpg</td>\n",
       "      <td>2</td>\n",
       "      <td>2</td>\n",
       "      <td>PD</td>\n",
       "      <td>True</td>\n",
       "      <td>validation</td>\n",
       "    </tr>\n",
       "    <tr>\n",
       "      <th>15</th>\n",
       "      <td>1.0</td>\n",
       "      <td>0.000000e+00</td>\n",
       "      <td>0.0</td>\n",
       "      <td>0.0</td>\n",
       "      <td>124</td>\n",
       "      <td>N099.jpg</td>\n",
       "      <td>N</td>\n",
       "      <td>./dataset/brain/N/N099.jpg</td>\n",
       "      <td>0</td>\n",
       "      <td>0</td>\n",
       "      <td>N</td>\n",
       "      <td>True</td>\n",
       "      <td>validation</td>\n",
       "    </tr>\n",
       "    <tr>\n",
       "      <th>16</th>\n",
       "      <td>1.0</td>\n",
       "      <td>0.000000e+00</td>\n",
       "      <td>0.0</td>\n",
       "      <td>0.0</td>\n",
       "      <td>117</td>\n",
       "      <td>N140.jpg</td>\n",
       "      <td>N</td>\n",
       "      <td>./dataset/brain/N/N140.jpg</td>\n",
       "      <td>0</td>\n",
       "      <td>0</td>\n",
       "      <td>N</td>\n",
       "      <td>True</td>\n",
       "      <td>validation</td>\n",
       "    </tr>\n",
       "    <tr>\n",
       "      <th>17</th>\n",
       "      <td>1.0</td>\n",
       "      <td>0.000000e+00</td>\n",
       "      <td>0.0</td>\n",
       "      <td>0.0</td>\n",
       "      <td>137</td>\n",
       "      <td>N010.jpg</td>\n",
       "      <td>N</td>\n",
       "      <td>./dataset/brain/N/N010.jpg</td>\n",
       "      <td>0</td>\n",
       "      <td>0</td>\n",
       "      <td>N</td>\n",
       "      <td>True</td>\n",
       "      <td>validation</td>\n",
       "    </tr>\n",
       "    <tr>\n",
       "      <th>18</th>\n",
       "      <td>1.0</td>\n",
       "      <td>0.000000e+00</td>\n",
       "      <td>0.0</td>\n",
       "      <td>0.0</td>\n",
       "      <td>111</td>\n",
       "      <td>N073.jpg</td>\n",
       "      <td>N</td>\n",
       "      <td>./dataset/brain/N/N073.jpg</td>\n",
       "      <td>0</td>\n",
       "      <td>0</td>\n",
       "      <td>N</td>\n",
       "      <td>True</td>\n",
       "      <td>validation</td>\n",
       "    </tr>\n",
       "    <tr>\n",
       "      <th>19</th>\n",
       "      <td>1.0</td>\n",
       "      <td>0.000000e+00</td>\n",
       "      <td>0.0</td>\n",
       "      <td>0.0</td>\n",
       "      <td>181</td>\n",
       "      <td>N098.jpg</td>\n",
       "      <td>N</td>\n",
       "      <td>./dataset/brain/N/N098.jpg</td>\n",
       "      <td>0</td>\n",
       "      <td>0</td>\n",
       "      <td>N</td>\n",
       "      <td>True</td>\n",
       "      <td>validation</td>\n",
       "    </tr>\n",
       "  </tbody>\n",
       "</table>\n",
       "</div>"
      ],
      "text/plain": [
       "      0             1    2    3  data_id      fname label  \\\n",
       "0   0.0  0.000000e+00  1.0  0.0      227   PS71.jpg    PS   \n",
       "1   0.0  5.560023e-31  1.0  0.0      212   PS73.jpg    PS   \n",
       "2   0.0  0.000000e+00  1.0  0.0      225  PS102.jpg    PS   \n",
       "3   0.0  0.000000e+00  1.0  0.0      202   PS72.jpg    PS   \n",
       "4   0.0  3.850853e-27  1.0  0.0      234  PS019.jpg    PS   \n",
       "5   1.0  0.000000e+00  0.0  0.0        7  MS162.jpg    MS   \n",
       "6   1.0  0.000000e+00  0.0  0.0       48  MS142.jpg    MS   \n",
       "7   1.0  0.000000e+00  0.0  0.0       30  MS128.jpg    MS   \n",
       "8   1.0  0.000000e+00  0.0  0.0        3  MS161.jpg    MS   \n",
       "9   1.0  0.000000e+00  0.0  0.0       44  MS126.jpg    MS   \n",
       "10  0.0  0.000000e+00  1.0  0.0       75  PD102.jpg    PD   \n",
       "11  0.0  0.000000e+00  1.0  0.0       62  PD090.jpg    PD   \n",
       "12  0.0  0.000000e+00  1.0  0.0       79  PD097.jpg    PD   \n",
       "13  0.0  0.000000e+00  1.0  0.0       99  PD101.jpg    PD   \n",
       "14  0.0  0.000000e+00  1.0  0.0       66  PD043.jpg    PD   \n",
       "15  1.0  0.000000e+00  0.0  0.0      124   N099.jpg     N   \n",
       "16  1.0  0.000000e+00  0.0  0.0      117   N140.jpg     N   \n",
       "17  1.0  0.000000e+00  0.0  0.0      137   N010.jpg     N   \n",
       "18  1.0  0.000000e+00  0.0  0.0      111   N073.jpg     N   \n",
       "19  1.0  0.000000e+00  0.0  0.0      181   N098.jpg     N   \n",
       "\n",
       "                            path  true  pred pred_label  match      t_or_v  \n",
       "0    ./dataset/brain/PS/PS71.jpg     1     2         PD  False  validation  \n",
       "1    ./dataset/brain/PS/PS73.jpg     1     2         PD  False  validation  \n",
       "2   ./dataset/brain/PS/PS102.jpg     1     2         PD  False  validation  \n",
       "3    ./dataset/brain/PS/PS72.jpg     1     2         PD  False  validation  \n",
       "4   ./dataset/brain/PS/PS019.jpg     1     2         PD  False  validation  \n",
       "5   ./dataset/brain/MS/MS162.jpg     3     0          N  False  validation  \n",
       "6   ./dataset/brain/MS/MS142.jpg     3     0          N  False  validation  \n",
       "7   ./dataset/brain/MS/MS128.jpg     3     0          N  False  validation  \n",
       "8   ./dataset/brain/MS/MS161.jpg     3     0          N  False  validation  \n",
       "9   ./dataset/brain/MS/MS126.jpg     3     0          N  False  validation  \n",
       "10  ./dataset/brain/PD/PD102.jpg     2     2         PD   True  validation  \n",
       "11  ./dataset/brain/PD/PD090.jpg     2     2         PD   True  validation  \n",
       "12  ./dataset/brain/PD/PD097.jpg     2     2         PD   True  validation  \n",
       "13  ./dataset/brain/PD/PD101.jpg     2     2         PD   True  validation  \n",
       "14  ./dataset/brain/PD/PD043.jpg     2     2         PD   True  validation  \n",
       "15    ./dataset/brain/N/N099.jpg     0     0          N   True  validation  \n",
       "16    ./dataset/brain/N/N140.jpg     0     0          N   True  validation  \n",
       "17    ./dataset/brain/N/N010.jpg     0     0          N   True  validation  \n",
       "18    ./dataset/brain/N/N073.jpg     0     0          N   True  validation  \n",
       "19    ./dataset/brain/N/N098.jpg     0     0          N   True  validation  "
      ]
     },
     "execution_count": 13,
     "metadata": {},
     "output_type": "execute_result"
    }
   ],
   "source": [
    "df_preds = pd.DataFrame(model.predict(x_test))\n",
    "f = pd.concat([df_preds,df_test], axis=1)\n",
    "f = f.rename(columns={'index':'data_id'})\n",
    "f['true'] = [ label2id[label] for label in f['label']]\n",
    "f['pred'] = y_pred = model.predict(x_test).argmax(axis=1)\n",
    "f['pred_label'] = [id2label[e] for e in f['pred']]\n",
    "f['match'] = f['true'] == f['pred']\n",
    "f['t_or_v'] = 'validation'\n",
    "\n",
    "f"
   ]
  },
  {
   "cell_type": "code",
   "execution_count": 14,
   "metadata": {
    "collapsed": true
   },
   "outputs": [],
   "source": [
    "from bson.objectid import ObjectId\n",
    "validation_table = 'validation_{}'.format(str(ObjectId()))\n",
    "f.to_sql(validation_table, conn)"
   ]
  },
  {
   "cell_type": "code",
   "execution_count": 15,
   "metadata": {
    "scrolled": true
   },
   "outputs": [
    {
     "ename": "OperationalError",
     "evalue": "table model has no column named dataset_name",
     "output_type": "error",
     "traceback": [
      "\u001b[0;31m---------------------------------------------------------------------------\u001b[0m",
      "\u001b[0;31mOperationalError\u001b[0m                          Traceback (most recent call last)",
      "\u001b[0;32m<ipython-input-15-0585457ff8a3>\u001b[0m in \u001b[0;36m<module>\u001b[0;34m()\u001b[0m\n\u001b[1;32m      9\u001b[0m '''\n\u001b[1;32m     10\u001b[0m \u001b[0mv\u001b[0m \u001b[0;34m=\u001b[0m \u001b[0;34m(\u001b[0m\u001b[0mmodel_name\u001b[0m\u001b[0;34m,\u001b[0m \u001b[0mvalidation_table\u001b[0m\u001b[0;34m,\u001b[0m \u001b[0mdataset_id\u001b[0m\u001b[0;34m,\u001b[0m \u001b[0mdataset_name\u001b[0m\u001b[0;34m)\u001b[0m\u001b[0;34m\u001b[0m\u001b[0m\n\u001b[0;32m---> 11\u001b[0;31m \u001b[0mc\u001b[0m\u001b[0;34m.\u001b[0m\u001b[0mexecute\u001b[0m\u001b[0;34m(\u001b[0m\u001b[0mq\u001b[0m\u001b[0;34m,\u001b[0m\u001b[0mv\u001b[0m\u001b[0;34m)\u001b[0m\u001b[0;34m\u001b[0m\u001b[0m\n\u001b[0m",
      "\u001b[0;31mOperationalError\u001b[0m: table model has no column named dataset_name"
     ]
    }
   ],
   "source": [
    "model_name = '{}_{}'.format(dataset_name, imgnet.__name__)\n",
    "q = '''\n",
    "insert into model(\n",
    "    name,\n",
    "    validation_table,\n",
    "    dataset_id,\n",
    "    dataset_name\n",
    ") values(?,?,?,?)\n",
    "'''\n",
    "v = (model_name, validation_table, dataset_id, dataset_name)\n",
    "c.execute(q,v)"
   ]
  },
  {
   "cell_type": "code",
   "execution_count": 28,
   "metadata": {
    "collapsed": true
   },
   "outputs": [],
   "source": [
    "model.save('models/{}.hdf5'.format(model_name))"
   ]
  },
  {
   "cell_type": "code",
   "execution_count": 29,
   "metadata": {
    "scrolled": true
   },
   "outputs": [
    {
     "name": "stderr",
     "output_type": "stream",
     "text": [
      "/home/fytroo/anaconda3/lib/python3.6/site-packages/ipykernel_launcher.py:4: DeprecationWarning: update is deprecated. Use replace_one, update_one or update_many instead.\n",
      "  after removing the cwd from sys.path.\n"
     ]
    },
    {
     "data": {
      "text/plain": [
       "{'n': 1, 'nModified': 1, 'ok': 1, 'updatedExisting': True}"
      ]
     },
     "execution_count": 29,
     "metadata": {},
     "output_type": "execute_result"
    }
   ],
   "source": [
    "model_id = c.lastrowid\n",
    "co = db.dataset\n",
    "co.update({'name':dataset_name},{'$push':{\n",
    "    'models':model_id}})"
   ]
  },
  {
   "cell_type": "code",
   "execution_count": 30,
   "metadata": {
    "collapsed": true
   },
   "outputs": [],
   "source": [
    "conn.commit()\n",
    "conn.close()"
   ]
  }
 ],
 "metadata": {
  "kernelspec": {
   "display_name": "Environment (conda_aml)",
   "language": "python",
   "name": "conda_aml"
  },
  "language_info": {
   "codemirror_mode": {
    "name": "ipython",
    "version": 3
   },
   "file_extension": ".py",
   "mimetype": "text/x-python",
   "name": "python",
   "nbconvert_exporter": "python",
   "pygments_lexer": "ipython3",
   "version": "3.6.3"
  }
 },
 "nbformat": 4,
 "nbformat_minor": 2
}
