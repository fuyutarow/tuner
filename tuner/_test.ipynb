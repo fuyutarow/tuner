{
 "cells": [
  {
   "cell_type": "code",
   "execution_count": 3,
   "metadata": {
    "scrolled": true
   },
   "outputs": [],
   "source": [
    "import tuner\n",
    "from tuner import utils"
   ]
  },
  {
   "cell_type": "code",
   "execution_count": 2,
   "metadata": {
    "collapsed": true
   },
   "outputs": [],
   "source": [
    "tester = app.test_client()\n",
    "render = lambda url: print(tester.get(url).data.decode('utf-8'))"
   ]
  },
  {
   "cell_type": "markdown",
   "metadata": {},
   "source": [
    "### /uploads\n",
    "静的ファイル，アップロードされたファイルが格納される <br/>\n",
    "<a href='/uploads/101_0015.JPG'>/uploads/101_0015.JPG</a>"
   ]
  },
  {
   "cell_type": "markdown",
   "metadata": {},
   "source": [
    "### /dataset\n",
    "静的ファイル，モデルの訓練，検証に用いたデータセットが格納されている"
   ]
  },
  {
   "cell_type": "markdown",
   "metadata": {},
   "source": [
    "### /v1/upload\n",
    "画像をアップロードする"
   ]
  },
  {
   "cell_type": "code",
   "execution_count": 3,
   "metadata": {},
   "outputs": [
    {
     "name": "stdout",
     "output_type": "stream",
     "text": [
      "<!DOCTYPE HTML PUBLIC \"-//W3C//DTD HTML 3.2 Final//EN\">\n",
      "<title>405 Method Not Allowed</title>\n",
      "<h1>Method Not Allowed</h1>\n",
      "<p>The method is not allowed for the requested URL.</p>\n",
      "\n"
     ]
    }
   ],
   "source": [
    "render('/v1/upload')"
   ]
  },
  {
   "cell_type": "markdown",
   "metadata": {},
   "source": [
    "### /v1/scores\n",
    "モデルのvalidationを表示する <br/>\n",
    "パラメータ'model'は必須，modelのidを表す"
   ]
  },
  {
   "cell_type": "code",
   "execution_count": 4,
   "metadata": {},
   "outputs": [
    {
     "name": "stdout",
     "output_type": "stream",
     "text": [
      "[\n",
      "  {\n",
      "    \"data_id\": 2171, \n",
      "    \"fname\": \"159_0044.JPG\", \n",
      "    \"label\": \"AB\", \n",
      "    \"label_pred\": \"N\", \n",
      "    \"match\": 0, \n",
      "    \"pred\": 1, \n",
      "    \"y_pred\": [\n",
      "      3.858646338604142e-20, \n",
      "      1.0\n",
      "    ]\n",
      "  }, \n",
      "  {\n",
      "    \"data_id\": 2285, \n",
      "    \"fname\": \"168_0136.JPG\", \n",
      "    \"label\": \"AB\", \n",
      "    \"label_pred\": \"N\", \n",
      "    \"match\": 0, \n",
      "    \"pred\": 1, \n",
      "    \"y_pred\": [\n",
      "      1.976293434458043e-11, \n",
      "      1.0\n",
      "    ]\n",
      "  }, \n",
      "  {\n",
      "    \"data_id\": 2201, \n",
      "    \"fname\": \"108_0026.JPG\", \n",
      "    \"label\": \"AB\", \n",
      "    \"label_pred\": \"N\", \n",
      "    \"match\": 0, \n",
      "    \"pred\": 1, \n",
      "    \"y_pred\": [\n",
      "      1.029304573374621e-18, \n",
      "      1.0\n",
      "    ]\n",
      "  }\n",
      "]\n",
      "\n"
     ]
    }
   ],
   "source": [
    "render('/v1/scores?model=1&limit=3')"
   ]
  },
  {
   "cell_type": "markdown",
   "metadata": {},
   "source": [
    "### /v1/preds\n",
    "アップロードされた画像に対して予測結果を返す <br/> \n",
    "パラメータfnameとmodelは必須"
   ]
  },
  {
   "cell_type": "code",
   "execution_count": 5,
   "metadata": {
    "scrolled": false
   },
   "outputs": [
    {
     "name": "stdout",
     "output_type": "stream",
     "text": [
      "uploads/eyes_AB_105_0018.JPG 1\n",
      "{\n",
      "  \"label_pred\": \"N\", \n",
      "  \"model_id\": 1, \n",
      "  \"path\": \"uploads/eyes_AB_105_0018.JPG\", \n",
      "  \"pred\": 1, \n",
      "  \"y_pred\": [\n",
      "    0.4956948161125183, \n",
      "    0.5043052434921265\n",
      "  ]\n",
      "}\n",
      "\n"
     ]
    }
   ],
   "source": [
    "render('/v1/preds?fname=eyes_AB_105_0018.JPG&model=1')"
   ]
  },
  {
   "cell_type": "markdown",
   "metadata": {},
   "source": [
    "### /v1/uploads\n",
    "アップロードされたファイル一覧"
   ]
  },
  {
   "cell_type": "code",
   "execution_count": 6,
   "metadata": {},
   "outputs": [
    {
     "name": "stdout",
     "output_type": "stream",
     "text": [
      "[\n",
      "  {\n",
      "    \"id\": 1, \n",
      "    \"name\": \"105_0018.JPG\", \n",
      "    \"path\": \"uploads/105_0018.JPG\"\n",
      "  }\n",
      "]\n",
      "\n"
     ]
    }
   ],
   "source": [
    "render('/v1/uploads?limit=3')"
   ]
  },
  {
   "cell_type": "markdown",
   "metadata": {},
   "source": [
    "### /v1/datasets"
   ]
  },
  {
   "cell_type": "code",
   "execution_count": 7,
   "metadata": {},
   "outputs": [
    {
     "name": "stdout",
     "output_type": "stream",
     "text": [
      "[\n",
      "  {\n",
      "    \"data\": \"data_5a24c18194a27002070ca6de\", \n",
      "    \"id\": \"5a24c18194a27002070ca6de\", \n",
      "    \"label2id\": {\n",
      "      \"AB\": 0, \n",
      "      \"N\": 1\n",
      "    }, \n",
      "    \"labels\": [\n",
      "      \"AB\", \n",
      "      \"N\"\n",
      "    ], \n",
      "    \"models\": [], \n",
      "    \"name\": \"eyes\"\n",
      "  }, \n",
      "  {\n",
      "    \"data\": \"data_5a2524cf94a27008a9abc554\", \n",
      "    \"id\": \"5a2524cf94a27008a9abc554\", \n",
      "    \"label2id\": {\n",
      "      \"MS\": 3, \n",
      "      \"N\": 0, \n",
      "      \"PD\": 1, \n",
      "      \"PS\": 2\n",
      "    }, \n",
      "    \"labels\": [\n",
      "      \"N\", \n",
      "      \"PD\", \n",
      "      \"PS\", \n",
      "      \"MS\"\n",
      "    ], \n",
      "    \"models\": [], \n",
      "    \"name\": \"brain\"\n",
      "  }\n",
      "]\n",
      "\n"
     ]
    }
   ],
   "source": [
    "render('/v1/datasets')"
   ]
  },
  {
   "cell_type": "code",
   "execution_count": 8,
   "metadata": {},
   "outputs": [
    {
     "name": "stdout",
     "output_type": "stream",
     "text": [
      "{\n",
      "  \"data\": \"data_5a24c18194a27002070ca6de\", \n",
      "  \"id\": \"5a24c18194a27002070ca6de\", \n",
      "  \"label2id\": {\n",
      "    \"AB\": 0, \n",
      "    \"N\": 1\n",
      "  }, \n",
      "  \"labels\": [\n",
      "    \"AB\", \n",
      "    \"N\"\n",
      "  ], \n",
      "  \"models\": [], \n",
      "  \"name\": \"eyes\"\n",
      "}\n",
      "\n"
     ]
    }
   ],
   "source": [
    "render('/v1/datasets?name=eyes')"
   ]
  },
  {
   "cell_type": "markdown",
   "metadata": {},
   "source": [
    "### /v1/models"
   ]
  },
  {
   "cell_type": "code",
   "execution_count": 9,
   "metadata": {
    "scrolled": true
   },
   "outputs": [
    {
     "name": "stdout",
     "output_type": "stream",
     "text": [
      "[\n",
      "  {\n",
      "    \"dataset_id\": \"5a260aeab037cbb588eafc87\", \n",
      "    \"dataset_name\": \"eyes\", \n",
      "    \"id\": 1, \n",
      "    \"name\": \"eyes_lenet1\", \n",
      "    \"validation_table\": \"validation_5a260ba0b037cbb5ae741317\"\n",
      "  }, \n",
      "  {\n",
      "    \"dataset_id\": \"5a260aeab037cbb588eafc87\", \n",
      "    \"dataset_name\": \"eyes\", \n",
      "    \"id\": 2, \n",
      "    \"name\": \"eyes_lenet2\", \n",
      "    \"validation_table\": \"validation_5a260d02b037cbb6d90c3dcd\"\n",
      "  }, \n",
      "  {\n",
      "    \"dataset_id\": \"5a260aeab037cbb588eafc87\", \n",
      "    \"dataset_name\": \"eyes\", \n",
      "    \"id\": 3, \n",
      "    \"name\": \"eyes_lenet3\", \n",
      "    \"validation_table\": \"validation_5a260dceb037cbb7ca64be27\"\n",
      "  }, \n",
      "  {\n",
      "    \"dataset_id\": \"5a260aeab037cbb588eafc87\", \n",
      "    \"dataset_name\": \"eyes\", \n",
      "    \"id\": 4, \n",
      "    \"name\": \"eyes_lenet4\", \n",
      "    \"validation_table\": \"validation_5a260e88b037cbb8ada2d955\"\n",
      "  }, \n",
      "  {\n",
      "    \"dataset_id\": \"5a260aeab037cbb588eafc88\", \n",
      "    \"dataset_name\": \"brain\", \n",
      "    \"id\": 5, \n",
      "    \"name\": \"brain_lenet1\", \n",
      "    \"validation_table\": \"validation_5a260ebfb037cbb9b1df6d11\"\n",
      "  }, \n",
      "  {\n",
      "    \"dataset_id\": \"5a260aeab037cbb588eafc88\", \n",
      "    \"dataset_name\": \"brain\", \n",
      "    \"id\": 6, \n",
      "    \"name\": \"brain_lenet2\", \n",
      "    \"validation_table\": \"validation_5a260ef4b037cbba424037b0\"\n",
      "  }, \n",
      "  {\n",
      "    \"dataset_id\": \"5a260aeab037cbb588eafc88\", \n",
      "    \"dataset_name\": \"brain\", \n",
      "    \"id\": 7, \n",
      "    \"name\": \"brain_lenet3\", \n",
      "    \"validation_table\": \"validation_5a260f29b037cbbacf7a709d\"\n",
      "  }\n",
      "]\n",
      "\n"
     ]
    }
   ],
   "source": [
    "render('/v1/models')"
   ]
  },
  {
   "cell_type": "code",
   "execution_count": 10,
   "metadata": {},
   "outputs": [
    {
     "name": "stdout",
     "output_type": "stream",
     "text": [
      "{\n",
      "  \"dataset_id\": \"5a260aeab037cbb588eafc87\", \n",
      "  \"dataset_name\": \"eyes\", \n",
      "  \"id\": 4, \n",
      "  \"name\": \"eyes_lenet4\", \n",
      "  \"validation_table\": \"validation_5a260e88b037cbb8ada2d955\"\n",
      "}\n",
      "\n"
     ]
    }
   ],
   "source": [
    "render('/v1/models/4')"
   ]
  },
  {
   "cell_type": "markdown",
   "metadata": {},
   "source": [
    "### /v1"
   ]
  },
  {
   "cell_type": "markdown",
   "metadata": {},
   "source": [
    "### /v1"
   ]
  }
 ],
 "metadata": {
  "kernelspec": {
   "display_name": "Environment (conda_aml)",
   "language": "python",
   "name": "conda_aml"
  },
  "language_info": {
   "codemirror_mode": {
    "name": "ipython",
    "version": 3
   },
   "file_extension": ".py",
   "mimetype": "text/x-python",
   "name": "python",
   "nbconvert_exporter": "python",
   "pygments_lexer": "ipython3",
   "version": "3.6.3"
  }
 },
 "nbformat": 4,
 "nbformat_minor": 2
}
