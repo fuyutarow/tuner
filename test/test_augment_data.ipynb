{
 "cells": [
  {
   "cell_type": "code",
   "execution_count": 18,
   "metadata": {
    "scrolled": true
   },
   "outputs": [],
   "source": [
    "import os\n",
    "import shutil\n",
    "\n",
    "import net\n",
    "from tuner.load_data import format_brain, load_fromdf\n",
    "from tuner.augment_data import augment_dataset\n",
    "from tuner import utils"
   ]
  },
  {
   "cell_type": "code",
   "execution_count": 15,
   "metadata": {},
   "outputs": [],
   "source": [
    "if os.path.exists('brain'):\n",
    "    shutil.rmtree('brain')\n",
    "else:\n",
    "    format_brain('../examples/micin-dataset/brain', 'brain')"
   ]
  },
  {
   "cell_type": "code",
   "execution_count": 16,
   "metadata": {
    "scrolled": true
   },
   "outputs": [
    {
     "name": "stderr",
     "output_type": "stream",
     "text": [
      "Executing Pipeline:   0%|          | 0/10 [00:00<?, ? Samples/s]          "
     ]
    },
    {
     "name": "stdout",
     "output_type": "stream",
     "text": [
      "Initialised with 51 image(s) found.\n",
      "Output directory set to brain/MS/output.Initialised with 51 image(s) found.\n",
      "Output directory set to brain/PD/output."
     ]
    },
    {
     "name": "stderr",
     "output_type": "stream",
     "text": [
      "Processing PS024.jpg:  10%|█         | 1/10 [00:00<00:00, 16.21 Samples/s]"
     ]
    },
    {
     "name": "stdout",
     "output_type": "stream",
     "text": [
      "Initialised with 84 image(s) found.\n",
      "Output directory set to brain/N/output.Initialised with 80 image(s) found.\n",
      "Output directory set to brain/PS/output."
     ]
    },
    {
     "name": "stderr",
     "output_type": "stream",
     "text": [
      "                                                                          \r"
     ]
    }
   ],
   "source": [
    "mkdir\n",
    "augment_dataset('brain', 'new', 30)"
   ]
  },
  {
   "cell_type": "code",
   "execution_count": null,
   "metadata": {
    "collapsed": true
   },
   "outputs": [],
   "source": [
    "df_train, df_val = train_val_split_df(df_fromdir('new'))\n",
    "x_train, y_train = load_from()"
   ]
  }
 ],
 "metadata": {
  "kernelspec": {
   "display_name": "Python 3",
   "language": "python",
   "name": "python3"
  },
  "language_info": {
   "codemirror_mode": {
    "name": "ipython",
    "version": 3
   },
   "file_extension": ".py",
   "mimetype": "text/x-python",
   "name": "python",
   "nbconvert_exporter": "python",
   "pygments_lexer": "ipython3",
   "version": "3.6.3"
  }
 },
 "nbformat": 4,
 "nbformat_minor": 2
}
