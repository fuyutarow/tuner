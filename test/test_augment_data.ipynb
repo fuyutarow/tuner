{
 "cells": [
  {
   "cell_type": "code",
   "execution_count": 8,
   "metadata": {
    "scrolled": true
   },
   "outputs": [],
   "source": [
    "import os\n",
    "import shutil\n",
    "\n",
    "import net\n",
    "from tuner import load_data\n",
    "from tuner.load_data import classed_dir_fromdf, load_fromdf\n",
    "from tuner.augment_data import augment_dataset\n",
    "from tuner import utils"
   ]
  },
  {
   "cell_type": "code",
   "execution_count": 3,
   "metadata": {
    "collapsed": true
   },
   "outputs": [],
   "source": [
    "if os.path.exists('brain'):\n",
    "    shutil.rmtree('brain')\n",
    "else:\n",
    "    format_brain('../micin-dataset/brain', 'brain')"
   ]
  },
  {
   "cell_type": "code",
   "execution_count": 14,
   "metadata": {},
   "outputs": [],
   "source": [
    "df_brain =load_data.df_fromdir_brain('../micin-dataset/brain')\n",
    "load_data.classed_dir_fromdf(df_brain, 'brain')"
   ]
  },
  {
   "cell_type": "code",
   "execution_count": 15,
   "metadata": {
    "scrolled": true
   },
   "outputs": [
    {
     "name": "stderr",
     "output_type": "stream",
     "text": [
      "Processing MS83.jpg:  33%|███▎      | 10/30 [00:00<00:00, 60.57 Samples/s]"
     ]
    },
    {
     "name": "stdout",
     "output_type": "stream",
     "text": [
      "Initialised with 51 image(s) found.\n",
      "Output directory set to brain/MS/output."
     ]
    },
    {
     "name": "stderr",
     "output_type": "stream",
     "text": [
      "Processing PD116.jpg:  20%|██        | 6/30 [00:00<00:00, 36.33 Samples/s] "
     ]
    },
    {
     "name": "stdout",
     "output_type": "stream",
     "text": [
      "Initialised with 51 image(s) found.\n",
      "Output directory set to brain/PD/output."
     ]
    },
    {
     "name": "stderr",
     "output_type": "stream",
     "text": [
      "Processing N022.jpg:  63%|██████▎   | 19/30 [00:00<00:00, 106.71 Samples/s]"
     ]
    },
    {
     "name": "stdout",
     "output_type": "stream",
     "text": [
      "Initialised with 84 image(s) found.\n",
      "Output directory set to brain/N/output."
     ]
    },
    {
     "name": "stderr",
     "output_type": "stream",
     "text": [
      "Processing PS107.jpg:  17%|█▋        | 5/30 [00:00<00:00, 32.80 Samples/s] "
     ]
    },
    {
     "name": "stdout",
     "output_type": "stream",
     "text": [
      "Initialised with 80 image(s) found.\n",
      "Output directory set to brain/PS/output."
     ]
    },
    {
     "name": "stderr",
     "output_type": "stream",
     "text": [
      "                                                                           \r"
     ]
    }
   ],
   "source": [
    "augment_dataset('brain', '../new', 30)"
   ]
  }
 ],
 "metadata": {
  "kernelspec": {
   "display_name": "Python 3",
   "language": "python",
   "name": "python3"
  },
  "language_info": {
   "codemirror_mode": {
    "name": "ipython",
    "version": 3
   },
   "file_extension": ".py",
   "mimetype": "text/x-python",
   "name": "python",
   "nbconvert_exporter": "python",
   "pygments_lexer": "ipython3",
   "version": "3.6.3"
  }
 },
 "nbformat": 4,
 "nbformat_minor": 2
}
